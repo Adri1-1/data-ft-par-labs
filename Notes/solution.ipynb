{
 "cells": [
  {
   "cell_type": "markdown",
   "metadata": {},
   "source": [
    "# Chapter Four"
   ]
  },
  {
   "cell_type": "code",
   "execution_count": null,
   "metadata": {},
   "outputs": [],
   "source": [
    "from datetime import datetime, timedelta\n",
    "import re\n",
    "def autocorrect(x):\n",
    "    dlt, period=re.findall(r'(\\d+) (.*?) ago',x)[0]\n",
    "    dlt=int(dlt)\n",
    "    period=period.rstrip('s')+'s'\n",
    "    return (datetime.now()-eval('timedelta('+eval('period')+'=dlt)')).strftime('%d/%m/%Y')"
   ]
  },
  {
   "cell_type": "markdown",
   "metadata": {},
   "source": [
    "# Chapter Five"
   ]
  },
  {
   "cell_type": "code",
   "execution_count": 1,
   "metadata": {},
   "outputs": [],
   "source": [
    "import numpy as np\n",
    "import pandas as pd\n",
    "# to draw pictures in jupyter notebook\n",
    "%matplotlib inline \n",
    "import matplotlib.pyplot as plt\n",
    "import seaborn as sns"
   ]
  },
  {
   "cell_type": "code",
   "execution_count": 5,
   "metadata": {},
   "outputs": [
    {
     "data": {
      "text/html": [
       "<div>\n",
       "<style scoped>\n",
       "    .dataframe tbody tr th:only-of-type {\n",
       "        vertical-align: middle;\n",
       "    }\n",
       "\n",
       "    .dataframe tbody tr th {\n",
       "        vertical-align: top;\n",
       "    }\n",
       "\n",
       "    .dataframe thead th {\n",
       "        text-align: right;\n",
       "    }\n",
       "</style>\n",
       "<table border=\"1\" class=\"dataframe\">\n",
       "  <thead>\n",
       "    <tr style=\"text-align: right;\">\n",
       "      <th></th>\n",
       "      <th>age</th>\n",
       "      <th>workclass</th>\n",
       "      <th>fnlwgt</th>\n",
       "      <th>education</th>\n",
       "      <th>education-num</th>\n",
       "      <th>marital-status</th>\n",
       "      <th>occupation</th>\n",
       "      <th>relationship</th>\n",
       "      <th>race</th>\n",
       "      <th>sex</th>\n",
       "      <th>capital-gain</th>\n",
       "      <th>capital-loss</th>\n",
       "      <th>hours-per-week</th>\n",
       "      <th>native-country</th>\n",
       "      <th>salary</th>\n",
       "    </tr>\n",
       "  </thead>\n",
       "  <tbody>\n",
       "    <tr>\n",
       "      <th>0</th>\n",
       "      <td>39</td>\n",
       "      <td>State-gov</td>\n",
       "      <td>77516</td>\n",
       "      <td>Bachelors</td>\n",
       "      <td>13</td>\n",
       "      <td>Never-married</td>\n",
       "      <td>Adm-clerical</td>\n",
       "      <td>Not-in-family</td>\n",
       "      <td>White</td>\n",
       "      <td>Male</td>\n",
       "      <td>2174</td>\n",
       "      <td>0</td>\n",
       "      <td>40</td>\n",
       "      <td>United-States</td>\n",
       "      <td>&lt;=50K</td>\n",
       "    </tr>\n",
       "    <tr>\n",
       "      <th>1</th>\n",
       "      <td>50</td>\n",
       "      <td>Self-emp-not-inc</td>\n",
       "      <td>83311</td>\n",
       "      <td>Bachelors</td>\n",
       "      <td>13</td>\n",
       "      <td>Married-civ-spouse</td>\n",
       "      <td>Exec-managerial</td>\n",
       "      <td>Husband</td>\n",
       "      <td>White</td>\n",
       "      <td>Male</td>\n",
       "      <td>0</td>\n",
       "      <td>0</td>\n",
       "      <td>13</td>\n",
       "      <td>United-States</td>\n",
       "      <td>&lt;=50K</td>\n",
       "    </tr>\n",
       "    <tr>\n",
       "      <th>2</th>\n",
       "      <td>38</td>\n",
       "      <td>Private</td>\n",
       "      <td>215646</td>\n",
       "      <td>HS-grad</td>\n",
       "      <td>9</td>\n",
       "      <td>Divorced</td>\n",
       "      <td>Handlers-cleaners</td>\n",
       "      <td>Not-in-family</td>\n",
       "      <td>White</td>\n",
       "      <td>Male</td>\n",
       "      <td>0</td>\n",
       "      <td>0</td>\n",
       "      <td>40</td>\n",
       "      <td>United-States</td>\n",
       "      <td>&lt;=50K</td>\n",
       "    </tr>\n",
       "    <tr>\n",
       "      <th>3</th>\n",
       "      <td>53</td>\n",
       "      <td>Private</td>\n",
       "      <td>234721</td>\n",
       "      <td>11th</td>\n",
       "      <td>7</td>\n",
       "      <td>Married-civ-spouse</td>\n",
       "      <td>Handlers-cleaners</td>\n",
       "      <td>Husband</td>\n",
       "      <td>Black</td>\n",
       "      <td>Male</td>\n",
       "      <td>0</td>\n",
       "      <td>0</td>\n",
       "      <td>40</td>\n",
       "      <td>United-States</td>\n",
       "      <td>&lt;=50K</td>\n",
       "    </tr>\n",
       "    <tr>\n",
       "      <th>4</th>\n",
       "      <td>28</td>\n",
       "      <td>Private</td>\n",
       "      <td>338409</td>\n",
       "      <td>Bachelors</td>\n",
       "      <td>13</td>\n",
       "      <td>Married-civ-spouse</td>\n",
       "      <td>Prof-specialty</td>\n",
       "      <td>Wife</td>\n",
       "      <td>Black</td>\n",
       "      <td>Female</td>\n",
       "      <td>0</td>\n",
       "      <td>0</td>\n",
       "      <td>40</td>\n",
       "      <td>Cuba</td>\n",
       "      <td>&lt;=50K</td>\n",
       "    </tr>\n",
       "  </tbody>\n",
       "</table>\n",
       "</div>"
      ],
      "text/plain": [
       "   age          workclass  fnlwgt   education  education-num  \\\n",
       "0   39          State-gov   77516   Bachelors             13   \n",
       "1   50   Self-emp-not-inc   83311   Bachelors             13   \n",
       "2   38            Private  215646     HS-grad              9   \n",
       "3   53            Private  234721        11th              7   \n",
       "4   28            Private  338409   Bachelors             13   \n",
       "\n",
       "        marital-status          occupation    relationship    race      sex  \\\n",
       "0        Never-married        Adm-clerical   Not-in-family   White     Male   \n",
       "1   Married-civ-spouse     Exec-managerial         Husband   White     Male   \n",
       "2             Divorced   Handlers-cleaners   Not-in-family   White     Male   \n",
       "3   Married-civ-spouse   Handlers-cleaners         Husband   Black     Male   \n",
       "4   Married-civ-spouse      Prof-specialty            Wife   Black   Female   \n",
       "\n",
       "   capital-gain  capital-loss  hours-per-week  native-country  salary  \n",
       "0          2174             0              40   United-States   <=50K  \n",
       "1             0             0              13   United-States   <=50K  \n",
       "2             0             0              40   United-States   <=50K  \n",
       "3             0             0              40   United-States   <=50K  \n",
       "4             0             0              40            Cuba   <=50K  "
      ]
     },
     "execution_count": 5,
     "metadata": {},
     "output_type": "execute_result"
    }
   ],
   "source": [
    "data = pd.read_csv('https://archive.ics.uci.edu/ml/machine-learning-databases/adult/adult.data', names=['age','workclass','fnlwgt','education','education-num','marital-status','occupation','relationship','race','sex','capital-gain','capital-loss','hours-per-week','native-country','salary'])\n",
    "data.head()"
   ]
  },
  {
   "cell_type": "code",
   "execution_count": 6,
   "metadata": {},
   "outputs": [
    {
     "data": {
      "text/plain": [
       " Male      21790\n",
       " Female    10771\n",
       "Name: sex, dtype: int64"
      ]
     },
     "execution_count": 6,
     "metadata": {},
     "output_type": "execute_result"
    }
   ],
   "source": [
    "data['sex'].value_counts()"
   ]
  },
  {
   "cell_type": "code",
   "execution_count": 15,
   "metadata": {},
   "outputs": [],
   "source": [
    "data['sex']=data['sex'].str.strip()"
   ]
  },
  {
   "cell_type": "code",
   "execution_count": 18,
   "metadata": {},
   "outputs": [
    {
     "data": {
      "text/plain": [
       "36.85823043357163"
      ]
     },
     "execution_count": 18,
     "metadata": {},
     "output_type": "execute_result"
    }
   ],
   "source": [
    "data.query('sex==\"Female\"').age.mean()"
   ]
  },
  {
   "cell_type": "code",
   "execution_count": 20,
   "metadata": {},
   "outputs": [
    {
     "data": {
      "text/plain": [
       "0.004207487485028101"
      ]
     },
     "execution_count": 20,
     "metadata": {},
     "output_type": "execute_result"
    }
   ],
   "source": [
    "float((data['native-country'] == ' Germany').sum()) / data.shape[0]"
   ]
  },
  {
   "cell_type": "code",
   "execution_count": 22,
   "metadata": {},
   "outputs": [
    {
     "name": "stdout",
     "output_type": "stream",
     "text": [
      "The average age of the rich: 44 +- 10.5 years, poor - 37 +- 14.0 years.\n"
     ]
    }
   ],
   "source": [
    "ages1 = data[data['salary'] == ' >50K']['age']\n",
    "ages2 = data[data['salary'] == ' <=50K']['age']\n",
    "print(\"The average age of the rich: {0} +- {1} years, poor - {2} +- {3} years.\".format(\n",
    "    round(ages1.mean()), round(ages1.std(), 1),\n",
    "    round(ages2.mean()), round(ages2.std(), 1)))"
   ]
  },
  {
   "cell_type": "code",
   "execution_count": 23,
   "metadata": {},
   "outputs": [
    {
     "data": {
      "text/plain": [
       "array([' HS-grad', ' Masters', ' Bachelors', ' Some-college',\n",
       "       ' Assoc-voc', ' Doctorate', ' Prof-school', ' Assoc-acdm',\n",
       "       ' 7th-8th', ' 12th', ' 10th', ' 11th', ' 9th', ' 5th-6th',\n",
       "       ' 1st-4th'], dtype=object)"
      ]
     },
     "execution_count": 23,
     "metadata": {},
     "output_type": "execute_result"
    }
   ],
   "source": [
    "data[data['salary'] == ' >50K']['education'].unique() # No"
   ]
  },
  {
   "cell_type": "code",
   "execution_count": 33,
   "metadata": {},
   "outputs": [
    {
     "data": {
      "text/plain": [
       "82"
      ]
     },
     "execution_count": 33,
     "metadata": {},
     "output_type": "execute_result"
    }
   ],
   "source": [
    "data[(data['race']==' Amer-Indian-Eskimo') & (data['sex']=='Male')].age.max()\n"
   ]
  },
  {
   "cell_type": "code",
   "execution_count": 34,
   "metadata": {},
   "outputs": [
    {
     "data": {
      "text/plain": [
       " <=50K    7423\n",
       " >50K      658\n",
       "Name: salary, dtype: int64"
      ]
     },
     "execution_count": 34,
     "metadata": {},
     "output_type": "execute_result"
    }
   ],
   "source": [
    "data[(data['sex'] == 'Male') &\n",
    "     (data['marital-status'].isin([' Never-married', \n",
    "                                   ' Separated', ' Divorced']))]['salary'].value_counts()"
   ]
  },
  {
   "cell_type": "code",
   "execution_count": 35,
   "metadata": {},
   "outputs": [
    {
     "data": {
      "text/plain": [
       " <=50K    7576\n",
       " >50K     5965\n",
       "Name: salary, dtype: int64"
      ]
     },
     "execution_count": 35,
     "metadata": {},
     "output_type": "execute_result"
    }
   ],
   "source": [
    "data[(data['sex'] == 'Male') &\n",
    "     (data['marital-status'].str.startswith(' Married'))]\\\n",
    "    ['salary'].value_counts()"
   ]
  },
  {
   "cell_type": "code",
   "execution_count": 36,
   "metadata": {},
   "outputs": [
    {
     "name": "stdout",
     "output_type": "stream",
     "text": [
      "Max time - 99 hours./week.\n",
      "Total number of such hard workers 85\n",
      "Percentage of rich among them 0%\n"
     ]
    }
   ],
   "source": [
    "max_load = data['hours-per-week'].max()\n",
    "print(\"Max time - {0} hours./week.\".format(max_load))\n",
    "\n",
    "num_workaholics = data[data['hours-per-week'] == max_load].shape[0]\n",
    "print(\"Total number of such hard workers {0}\".format(num_workaholics))\n",
    "\n",
    "rich_share = float(data[(data['hours-per-week'] == max_load)\n",
    "                 & (data['salary'] == '>50K')].shape[0]) / num_workaholics\n",
    "print(\"Percentage of rich among them {0}%\".format(int(100 * rich_share)))"
   ]
  },
  {
   "cell_type": "code",
   "execution_count": 37,
   "metadata": {},
   "outputs": [
    {
     "data": {
      "text/html": [
       "<div>\n",
       "<style scoped>\n",
       "    .dataframe tbody tr th:only-of-type {\n",
       "        vertical-align: middle;\n",
       "    }\n",
       "\n",
       "    .dataframe tbody tr th {\n",
       "        vertical-align: top;\n",
       "    }\n",
       "\n",
       "    .dataframe thead th {\n",
       "        text-align: right;\n",
       "    }\n",
       "</style>\n",
       "<table border=\"1\" class=\"dataframe\">\n",
       "  <thead>\n",
       "    <tr style=\"text-align: right;\">\n",
       "      <th>native-country</th>\n",
       "      <th>?</th>\n",
       "      <th>Cambodia</th>\n",
       "      <th>Canada</th>\n",
       "      <th>China</th>\n",
       "      <th>Columbia</th>\n",
       "      <th>Cuba</th>\n",
       "      <th>Dominican-Republic</th>\n",
       "      <th>Ecuador</th>\n",
       "      <th>El-Salvador</th>\n",
       "      <th>England</th>\n",
       "      <th>...</th>\n",
       "      <th>Portugal</th>\n",
       "      <th>Puerto-Rico</th>\n",
       "      <th>Scotland</th>\n",
       "      <th>South</th>\n",
       "      <th>Taiwan</th>\n",
       "      <th>Thailand</th>\n",
       "      <th>Trinadad&amp;Tobago</th>\n",
       "      <th>United-States</th>\n",
       "      <th>Vietnam</th>\n",
       "      <th>Yugoslavia</th>\n",
       "    </tr>\n",
       "    <tr>\n",
       "      <th>salary</th>\n",
       "      <th></th>\n",
       "      <th></th>\n",
       "      <th></th>\n",
       "      <th></th>\n",
       "      <th></th>\n",
       "      <th></th>\n",
       "      <th></th>\n",
       "      <th></th>\n",
       "      <th></th>\n",
       "      <th></th>\n",
       "      <th></th>\n",
       "      <th></th>\n",
       "      <th></th>\n",
       "      <th></th>\n",
       "      <th></th>\n",
       "      <th></th>\n",
       "      <th></th>\n",
       "      <th></th>\n",
       "      <th></th>\n",
       "      <th></th>\n",
       "      <th></th>\n",
       "    </tr>\n",
       "  </thead>\n",
       "  <tbody>\n",
       "    <tr>\n",
       "      <th>&lt;=50K</th>\n",
       "      <td>40.164760</td>\n",
       "      <td>41.416667</td>\n",
       "      <td>37.914634</td>\n",
       "      <td>37.381818</td>\n",
       "      <td>38.684211</td>\n",
       "      <td>37.985714</td>\n",
       "      <td>42.338235</td>\n",
       "      <td>38.041667</td>\n",
       "      <td>36.030928</td>\n",
       "      <td>40.483333</td>\n",
       "      <td>...</td>\n",
       "      <td>41.939394</td>\n",
       "      <td>38.470588</td>\n",
       "      <td>39.444444</td>\n",
       "      <td>40.15625</td>\n",
       "      <td>33.774194</td>\n",
       "      <td>42.866667</td>\n",
       "      <td>37.058824</td>\n",
       "      <td>38.799127</td>\n",
       "      <td>37.193548</td>\n",
       "      <td>41.6</td>\n",
       "    </tr>\n",
       "    <tr>\n",
       "      <th>&gt;50K</th>\n",
       "      <td>45.547945</td>\n",
       "      <td>40.000000</td>\n",
       "      <td>45.641026</td>\n",
       "      <td>38.900000</td>\n",
       "      <td>50.000000</td>\n",
       "      <td>42.440000</td>\n",
       "      <td>47.000000</td>\n",
       "      <td>48.750000</td>\n",
       "      <td>45.000000</td>\n",
       "      <td>44.533333</td>\n",
       "      <td>...</td>\n",
       "      <td>41.500000</td>\n",
       "      <td>39.416667</td>\n",
       "      <td>46.666667</td>\n",
       "      <td>51.43750</td>\n",
       "      <td>46.800000</td>\n",
       "      <td>58.333333</td>\n",
       "      <td>40.000000</td>\n",
       "      <td>45.505369</td>\n",
       "      <td>39.200000</td>\n",
       "      <td>49.5</td>\n",
       "    </tr>\n",
       "  </tbody>\n",
       "</table>\n",
       "<p>2 rows × 42 columns</p>\n",
       "</div>"
      ],
      "text/plain": [
       "native-country          ?   Cambodia     Canada      China   Columbia  \\\n",
       "salary                                                                  \n",
       " <=50K          40.164760  41.416667  37.914634  37.381818  38.684211   \n",
       " >50K           45.547945  40.000000  45.641026  38.900000  50.000000   \n",
       "\n",
       "native-country       Cuba   Dominican-Republic    Ecuador   El-Salvador  \\\n",
       "salary                                                                    \n",
       " <=50K          37.985714            42.338235  38.041667     36.030928   \n",
       " >50K           42.440000            47.000000  48.750000     45.000000   \n",
       "\n",
       "native-country    England  ...   Portugal   Puerto-Rico   Scotland     South  \\\n",
       "salary                     ...                                                 \n",
       " <=50K          40.483333  ...  41.939394     38.470588  39.444444  40.15625   \n",
       " >50K           44.533333  ...  41.500000     39.416667  46.666667  51.43750   \n",
       "\n",
       "native-country     Taiwan   Thailand   Trinadad&Tobago   United-States  \\\n",
       "salary                                                                   \n",
       " <=50K          33.774194  42.866667         37.058824       38.799127   \n",
       " >50K           46.800000  58.333333         40.000000       45.505369   \n",
       "\n",
       "native-country    Vietnam   Yugoslavia  \n",
       "salary                                  \n",
       " <=50K          37.193548         41.6  \n",
       " >50K           39.200000         49.5  \n",
       "\n",
       "[2 rows x 42 columns]"
      ]
     },
     "execution_count": 37,
     "metadata": {},
     "output_type": "execute_result"
    }
   ],
   "source": [
    "pd.crosstab(data['native-country'], data['salary'], \n",
    "           values=data['hours-per-week'], aggfunc=np.mean).T"
   ]
  }
 ],
 "metadata": {
  "kernelspec": {
   "display_name": "Python 3",
   "language": "python",
   "name": "python3"
  },
  "language_info": {
   "codemirror_mode": {
    "name": "ipython",
    "version": 3
   },
   "file_extension": ".py",
   "mimetype": "text/x-python",
   "name": "python",
   "nbconvert_exporter": "python",
   "pygments_lexer": "ipython3",
   "version": "3.8.5"
  }
 },
 "nbformat": 4,
 "nbformat_minor": 4
}
