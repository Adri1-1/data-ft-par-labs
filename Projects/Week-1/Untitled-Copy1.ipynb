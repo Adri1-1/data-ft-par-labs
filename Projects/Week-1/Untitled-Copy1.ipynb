{
 "cells": [
  {
   "cell_type": "code",
   "execution_count": 1,
   "metadata": {},
   "outputs": [
    {
     "name": "stdout",
     "output_type": "stream",
     "text": [
      "20\n"
     ]
    }
   ],
   "source": [
    "## BLACKJACK BABY \n",
    "\n",
    "\"\"\"\"\n",
    "--> Asseoir à la table; souhaitez la bienvenue au Joueur \n",
    "--> Le joueur depose sont argent = bank_player\n",
    "--> Lui demander sa mise de départ pour le premier tour de la partie\n",
    "\n",
    "--> Definir le paquet de carte:\n",
    "--> Tirer 2 cartes au hasard du paquet de carte pour le joueur: print it --> retirer ces cartes du paquet\n",
    "--> Tirer 2 cartes au hasard du paquet de carte pour le croupier: show one and hint one  --> retirer ces cartes du paquet\n",
    "\n",
    "--> Demande: - rester --> ne tire pas de carte supplémentaire au joueur --> tirer des cartes au croupier jusqu'à atteindre 17 ou dépaser 21\n",
    "             - distribuer une carte supplémentaire au joueur -->   \n",
    "\n",
    "\n",
    "--> Comparer les valeurs de cartes entre celles du croupier et celles du joueur.\n",
    "\n",
    "--> Determiner le gagnant / Determiner gain/perte de la mise \n",
    "\n",
    "--> Mélanger le paquet de carte: quand le total de carte dans le paquet est inférieur à 20 cartes \n",
    "\n",
    "--> Recommencer un nouveau tour (actualiser la banque du joueur)\n",
    "\n",
    "\n",
    "\"\"\"\"\n",
    "\n",
    "\n",
    "\n",
    "\n",
    "\n",
    "\n",
    "\n",
    "\n",
    "import random\n",
    "\n",
    "\n",
    "valeur = { 'valeur' :  [2, 3, 4, 5, 6, 7, 8, 9, 10, 'R', 'D', 'V', 'A' ]}\n",
    "couleur = { 'couleur' : ['carreau', 'coeur', 'trefle', 'pique'] }\n",
    "\n",
    "\n",
    "# couleur = {'carreau' : [2, 3, 4, 5, 6, 7, 8, 9, 10,  'R', 'D', 'V', 'A' ],\n",
    "#          'coeur' : [2, 3, 4, 5, 6, 7, 8, 9, 10, 'R', 'D', 'V', 'A' ],\n",
    "#          'trefle' :[2, 3, 4, 5, 6, 7, 8, 9, 10, 'R', 'D', 'V', 'A' ],\n",
    "#          'pique'  : [2, 3, 4, 5, 6, 7, 8, 9, 10,'R', 'D', 'V', 'A' ] }\n",
    "\n",
    "def ma_carte(valeur, couleur):\n",
    "    a = random.randrange(12)\n",
    "    b = random.randrange(3)\n",
    "    carte = (valeur['valeur'][a], couleur['couleur'][b])\n",
    "    return carte\n",
    "\n",
    "\n",
    "def mon_jeu(valeur, couleur):\n",
    "    paquet = []\n",
    "    for elt1 in valeur['valeur']:\n",
    "        for elt2 in couleur['couleur']:\n",
    "            paquet.append((elt1, elt2))\n",
    "    return paquet\n",
    "paquet = mon_jeu(valeur, couleur)\n",
    "\n",
    "#print(paquet, len(paquet))\n",
    "#fonction tirer un carte au hasard du paquet\n",
    "\n",
    "def tirer_une_carte(set_):\n",
    "    nbr= random.randrange(len(set_))\n",
    "    new_carte = set_[nbr]\n",
    "    set_.remove(new_carte)\n",
    "    return new_carte\n",
    "\n",
    "#print(carte_hasard)\n",
    "#fonction qui mélange le paquet\n",
    "\n",
    "def melange (lst):\n",
    "    return random.sample(lst, k = len(lst))\n",
    "    #return random.shuffle(lst)\n",
    "new_paquet = melange(paquet)\n",
    "\n",
    "#print(new_paquet, len((new_paquet))\n",
    "#Fonction qui compare les cartes d une main\n",
    "\n",
    "def calculer_valeur_une_main(cartes):\n",
    "    val = 0\n",
    "    for carte in cartes:\n",
    "        if (carte[0] == 'R'):\n",
    "            val += 10\n",
    "        elif ( carte[0] == 'D'):\n",
    "            val += 10\n",
    "        elif (carte[0] == 'V'):\n",
    "            val += 10\n",
    "        elif 1 < carte[0] <= 10:\n",
    "            val += carte[0]\n",
    "    nb_as = cartes.count(1) # Attention s'il y a plusieurs as dans la main\n",
    "    while nb_as>1:\n",
    "        val += 1    # un seul as peut valoir 11 pts. Les autres valent 1.\n",
    "        nb_as -= 1\n",
    "    if nb_as == 1 and val + 11 <= 21:\n",
    "        return val + 11\n",
    "    elif 1 in cartes:\n",
    "        return val + 1\n",
    "    else:\n",
    "        return val\n",
    "    return val\n",
    "# carte1 = ma_carte(valeur, couleur)\n",
    "# carte2 = ma_carte(valeur, couleur)\n",
    "carte1 = (1, 'trefle')\n",
    "carte2 = (10, 'coeur')\n",
    "carte3 = (10, 'coeur')\n",
    "cartes = (carte1, carte2, carte3)\n",
    "ma_valeur = calculer_valeur_une_main(cartes)\n",
    "print(ma_valeur)"
   ]
  },
  {
   "cell_type": "code",
   "execution_count": 2,
   "metadata": {},
   "outputs": [],
   "source": [
    "def tirer_une_carte(set_):\n",
    "    nbr= random.randrange(set_)\n",
    "    new_carte = set_[nbr]\n",
    "    set_.remove(new_carte)\n",
    "    return new_carte"
   ]
  },
  {
   "cell_type": "code",
   "execution_count": 5,
   "metadata": {},
   "outputs": [
    {
     "name": "stdout",
     "output_type": "stream",
     "text": [
      "Vous vous asseyez à une table de BlackJack,\n",
      "Combien de dollar souhaitez-vous miser ?99\n"
     ]
    }
   ],
   "source": [
    "print('Vous vous asseyez à une table de BlackJack,')\n",
    "\n",
    "continuer_partie = True\n",
    "while continuer_partie:\n",
    "    argent = -1\n",
    "    while argent < 0 or argent >  100000000:\n",
    "        argent = input(\"Combien de dollar souhaitez-vous miser ?\")\n",
    "\n",
    "        try:\n",
    "            argent = int(argent)\n",
    "        except ValueError:\n",
    "            print(\"Vous n'avez pas saisi de nombre\")\n",
    "            argent = -1\n",
    "            continue\n",
    "        if argent < 0:\n",
    "            print(\"Ce nombre est négatif\")\n",
    "        if argent > 100000000:\n",
    "            print(\"Soyons raisonnable, je vous en pris Monsieur\")\n",
    "    break\n"
   ]
  },
  {
   "cell_type": "code",
   "execution_count": 6,
   "metadata": {},
   "outputs": [
    {
     "name": "stdout",
     "output_type": "stream",
     "text": [
      "Combien souhaitez-vous miser ?-8\n",
      "La mise saisie est négative ou nulle. \n",
      "Combien souhaitez-vous miser ?100\n",
      "Vous n'avez pas les fonds nécessaires\n",
      "Combien souhaitez-vous miser ?e\n",
      "Vous n'avez pas saisi de nombre\n",
      "Combien souhaitez-vous miser ?76\n"
     ]
    }
   ],
   "source": [
    "mise = 0\n",
    "while mise <= 0 or mise > argent:\n",
    "    mise = input(\"Combien souhaitez-vous miser ?\")\n",
    "    try:\n",
    "        mise = int(mise)\n",
    "    except ValueError:\n",
    "            print(\"Vous n'avez pas saisi de nombre\")\n",
    "            mise = -1\n",
    "            continue\n",
    "    if mise <= 0:\n",
    "                print(\"La mise saisie est négative ou nulle. \")\n",
    "    if mise > argent:\n",
    "                print(\"Vous n'avez pas les fonds nécessaires\")\n"
   ]
  },
  {
   "cell_type": "code",
   "execution_count": null,
   "metadata": {},
   "outputs": [],
   "source": []
  }
 ],
 "metadata": {
  "kernelspec": {
   "display_name": "Python 3",
   "language": "python",
   "name": "python3"
  },
  "language_info": {
   "codemirror_mode": {
    "name": "ipython",
    "version": 3
   },
   "file_extension": ".py",
   "mimetype": "text/x-python",
   "name": "python",
   "nbconvert_exporter": "python",
   "pygments_lexer": "ipython3",
   "version": "3.8.5"
  }
 },
 "nbformat": 4,
 "nbformat_minor": 4
}
