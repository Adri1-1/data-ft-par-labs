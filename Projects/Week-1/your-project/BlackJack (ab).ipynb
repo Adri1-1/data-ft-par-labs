{
 "cells": [
  {
   "cell_type": "code",
   "execution_count": 1,
   "metadata": {},
   "outputs": [
    {
     "name": "stdout",
     "output_type": "stream",
     "text": [
      "Vous vous asseyez à une table de BlackJack,\n",
      "Combien de dollar souhaitez-vous miser ?30000\n"
     ]
    }
   ],
   "source": [
    "print('Vous vous asseyez à une table de BlackJack,')\n",
    "\n",
    "continuer_partie = True\n",
    "while continuer_partie:\n",
    "    argent = -1\n",
    "    while argent < 0 or argent >  100000000:\n",
    "        argent = input(\"Combien de dollar souhaitez-vous miser ?\")\n",
    "\n",
    "        try:\n",
    "            argent = int(argent)\n",
    "        except ValueError:\n",
    "            print(\"Vous n'avez pas saisi de nombre\")\n",
    "            argent = -1\n",
    "            continue\n",
    "        if argent < 0:\n",
    "            print(\"Ce nombre est négatif\")\n",
    "        if argent > 100000000:\n",
    "            print(\"Soyons raisonnable, je vous en pris Monsieur\")\n",
    "    break\n",
    "\n"
   ]
  },
  {
   "cell_type": "code",
   "execution_count": 2,
   "metadata": {},
   "outputs": [
    {
     "name": "stdout",
     "output_type": "stream",
     "text": [
      "Combien souhaitez-vous miser pour ce tour ?3\n"
     ]
    }
   ],
   "source": [
    "mise = 0\n",
    "while mise <= 0 or mise > argent:\n",
    "    mise = input(\"Combien souhaitez-vous miser pour ce tour ?\")\n",
    "    try:\n",
    "        mise = int(mise)\n",
    "    except ValueError:\n",
    "            print(\"Vous n'avez pas saisi de nombre\")\n",
    "            mise = -1\n",
    "            continue\n",
    "    if mise <= 0:\n",
    "                print(\"La mise saisie est négative ou nulle. \")\n",
    "    if mise > argent:\n",
    "                print(\"Vous n'avez pas les fonds nécessaires\")\n"
   ]
  },
  {
   "cell_type": "code",
   "execution_count": 3,
   "metadata": {
    "scrolled": true
   },
   "outputs": [
    {
     "name": "stdout",
     "output_type": "stream",
     "text": [
      "[(2, 'carreau'), (2, 'coeur'), (2, 'trefle'), (2, 'pique'), (3, 'carreau'), (3, 'coeur'), (3, 'trefle'), (3, 'pique'), (4, 'carreau'), (4, 'coeur'), (4, 'trefle'), (4, 'pique'), (5, 'carreau'), (5, 'coeur'), (5, 'trefle'), (5, 'pique'), (6, 'carreau'), (6, 'coeur'), (6, 'trefle'), (6, 'pique'), (7, 'carreau'), (7, 'coeur'), (7, 'trefle'), (7, 'pique'), (8, 'carreau'), (8, 'coeur'), (8, 'trefle'), (8, 'pique'), (9, 'carreau'), (9, 'coeur'), (9, 'trefle'), (9, 'pique'), (10, 'carreau'), (10, 'coeur'), (10, 'trefle'), (10, 'pique'), ('R', 'carreau'), ('R', 'coeur'), ('R', 'trefle'), ('R', 'pique'), ('D', 'carreau'), ('D', 'coeur'), ('D', 'trefle'), ('D', 'pique'), ('V', 'carreau'), ('V', 'coeur'), ('V', 'trefle'), ('V', 'pique'), ('A', 'carreau'), ('A', 'coeur'), ('A', 'trefle'), ('A', 'pique')]\n"
     ]
    }
   ],
   "source": [
    "valeur = { 'valeur' :  [2, 3, 4, 5, 6, 7, 8, 9, 10, 'R', 'D', 'V', 'A' ]}\n",
    "couleur = { 'couleur' : ['carreau', 'coeur', 'trefle', 'pique'] }\n",
    "\n",
    "\n",
    "def mon_jeu(valeur, couleur):\n",
    "    paquet = []\n",
    "    for elt1 in valeur['valeur']:\n",
    "        for elt2 in couleur['couleur']:\n",
    "            paquet.append((elt1, elt2))\n",
    "    return paquet\n",
    "paquet = mon_jeu(valeur, couleur)\n",
    "\n",
    "print(paquet)\n"
   ]
  },
  {
   "cell_type": "code",
   "execution_count": 8,
   "metadata": {},
   "outputs": [
    {
     "ename": "TypeError",
     "evalue": "'tuple' object cannot be interpreted as an integer",
     "output_type": "error",
     "traceback": [
      "\u001b[0;31m---------------------------------------------------------------------------\u001b[0m",
      "\u001b[0;31mTypeError\u001b[0m                                 Traceback (most recent call last)",
      "\u001b[0;32m<ipython-input-8-d8a0586aa4c2>\u001b[0m in \u001b[0;36m<module>\u001b[0;34m\u001b[0m\n\u001b[1;32m      2\u001b[0m \u001b[0;34m\u001b[0m\u001b[0m\n\u001b[1;32m      3\u001b[0m \u001b[0mcarte\u001b[0m \u001b[0;34m=\u001b[0m \u001b[0mrandom\u001b[0m\u001b[0;34m.\u001b[0m\u001b[0mchoice\u001b[0m\u001b[0;34m(\u001b[0m\u001b[0mlist\u001b[0m\u001b[0;34m(\u001b[0m\u001b[0mpaquet\u001b[0m\u001b[0;34m)\u001b[0m\u001b[0;34m)\u001b[0m\u001b[0;34m\u001b[0m\u001b[0;34m\u001b[0m\u001b[0m\n\u001b[0;32m----> 4\u001b[0;31m \u001b[0mpaquet\u001b[0m\u001b[0;34m.\u001b[0m\u001b[0mpop\u001b[0m\u001b[0;34m(\u001b[0m\u001b[0mcarte\u001b[0m\u001b[0;34m)\u001b[0m\u001b[0;34m\u001b[0m\u001b[0;34m\u001b[0m\u001b[0m\n\u001b[0m\u001b[1;32m      5\u001b[0m \u001b[0mcarte1\u001b[0m \u001b[0;34m=\u001b[0m \u001b[0mrandom\u001b[0m\u001b[0;34m.\u001b[0m\u001b[0mchoice\u001b[0m\u001b[0;34m(\u001b[0m\u001b[0mlist\u001b[0m\u001b[0;34m(\u001b[0m\u001b[0mpaquet\u001b[0m\u001b[0;34m)\u001b[0m\u001b[0;34m)\u001b[0m\u001b[0;34m\u001b[0m\u001b[0;34m\u001b[0m\u001b[0m\n\u001b[1;32m      6\u001b[0m \u001b[0mcartes\u001b[0m \u001b[0;34m=\u001b[0m \u001b[0mcarte\u001b[0m \u001b[0;34m+\u001b[0m \u001b[0mcarte1\u001b[0m\u001b[0;34m\u001b[0m\u001b[0;34m\u001b[0m\u001b[0m\n",
      "\u001b[0;31mTypeError\u001b[0m: 'tuple' object cannot be interpreted as an integer"
     ]
    }
   ],
   "source": [
    "import random\n",
    "\n",
    "carte = random.choice(list(paquet))\n",
    "paquet.pop(carte)\n",
    "carte1 = random.choice(list(paquet))\n",
    "cartes = carte + carte1\n",
    "print(carte)\n",
    "print(carte1)\n",
    "print(cartes)"
   ]
  },
  {
   "cell_type": "code",
   "execution_count": 7,
   "metadata": {},
   "outputs": [
    {
     "name": "stdout",
     "output_type": "stream",
     "text": [
      "9\n",
      "18\n"
     ]
    }
   ],
   "source": [
    "val = 0\n",
    "if carte[0] == 'R':\n",
    "    val += 10\n",
    "elif carte[0] == 'D':\n",
    "        val += 10\n",
    "elif carte[0] == 'V':\n",
    "        val += 10\n",
    "elif carte[0] == range(2, 10, 1):\n",
    "        val += carte[0]\n",
    "elif 1 < carte[0] <= 10:\n",
    "            val += carte[0]\n",
    "elif carte[0] == 'A':\n",
    "    val += 11\n",
    "elif val > 21 \n",
    "\n",
    "    \n",
    "    \n",
    "print(val)\n",
    "\n",
    " \n",
    "if carte1[0] == 'R':\n",
    "    val += 10\n",
    "elif carte1[0] == 'D':\n",
    "        val += 10\n",
    "elif carte1[0] == 'V':\n",
    "        val += 10\n",
    "elif carte1[0] == range(2, 10, 1):\n",
    "        val += carte1[0]\n",
    "elif 1 < carte1[0] <= 10:\n",
    "            val += carte[0]\n",
    "elif carte[0] == 'A':\n",
    "    val += 11        \n",
    "print(val)"
   ]
  },
  {
   "cell_type": "code",
   "execution_count": 6,
   "metadata": {},
   "outputs": [
    {
     "name": "stdout",
     "output_type": "stream",
     "text": [
      "You win\n"
     ]
    }
   ],
   "source": [
    "val2 = 17\n",
    "if val == 21:\n",
    "    print(blackjack)\n",
    "elif val > val2:\n",
    "    print(\"You win\")\n",
    "elif val < val2:\n",
    "    print(\"You lose\")\n",
    "else:\n",
    "    print(\"Tie\")"
   ]
  },
  {
   "cell_type": "code",
   "execution_count": 9,
   "metadata": {},
   "outputs": [],
   "source": [
    "def calculer_valeur_une_main(cartes):\n",
    "    val = 0\n",
    "    for carte in cartes:\n",
    "        if (carte[0] == 'R'):\n",
    "            val += 10\n",
    "        elif ( carte[0] == 'D'):\n",
    "            val += 10\n",
    "        elif (carte[0] == 'V'):\n",
    "            val += 10\n",
    "        elif (carte[0] == 'A'):\n",
    "            val += 11\n",
    "        elif 1 < carte[0] <= 10:\n",
    "            val += carte[0]\n",
    "    nb_as = cartes.count(1) # Attention s'il y a plusieurs as dans la main\n",
    "    while nb_as>1:\n",
    "        val += 1    # un seul as peut valoir 11 pts. Les autres valent 1.\n",
    "        nb_as -= 1\n",
    "    if nb_as == 1 and val + 11 <= 21:\n",
    "        return val + 11\n",
    "    elif 1 in cartes:\n",
    "        return val + 1\n",
    "    else:\n",
    "        return val\n",
    "    return val"
   ]
  },
  {
   "cell_type": "code",
   "execution_count": 10,
   "metadata": {},
   "outputs": [
    {
     "name": "stdout",
     "output_type": "stream",
     "text": [
      "(9, 'carreau', 9, 'coeur')\n"
     ]
    }
   ],
   "source": [
    "print(cartes)"
   ]
  },
  {
   "cell_type": "code",
   "execution_count": 12,
   "metadata": {},
   "outputs": [
    {
     "name": "stdout",
     "output_type": "stream",
     "text": [
      "<function calculer_valeur_une_main at 0x10c5fb670>\n"
     ]
    }
   ],
   "source": []
  },
  {
   "cell_type": "code",
   "execution_count": null,
   "metadata": {},
   "outputs": [],
   "source": []
  }
 ],
 "metadata": {
  "kernelspec": {
   "display_name": "Python 3",
   "language": "python",
   "name": "python3"
  },
  "language_info": {
   "codemirror_mode": {
    "name": "ipython",
    "version": 3
   },
   "file_extension": ".py",
   "mimetype": "text/x-python",
   "name": "python",
   "nbconvert_exporter": "python",
   "pygments_lexer": "ipython3",
   "version": "3.8.5"
  }
 },
 "nbformat": 4,
 "nbformat_minor": 4
}
